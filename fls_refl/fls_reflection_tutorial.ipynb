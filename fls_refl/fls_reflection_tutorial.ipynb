{
 "cells": [
  {
   "cell_type": "code",
   "execution_count": 1,
   "id": "cdfc35ff-247c-48f7-af88-b407346c2936",
   "metadata": {},
   "outputs": [],
   "source": [
    "from smooth import smooth_hann"
   ]
  },
  {
   "cell_type": "code",
   "execution_count": 2,
   "id": "0c6e3e32-8ca2-42c4-9536-fc72fbc0e276",
   "metadata": {},
   "outputs": [],
   "source": [
    "%matplotlib notebook\n",
    "\n",
    "import numpy as np\n",
    "import optlo_calc as opt\n",
    "from optlo_calc.material_fitting import *\n",
    "\n",
    "# from latrt_testing.tod_ops import smooth\n",
    "\n",
    "import astropy.units as u\n",
    "import astropy.constants as cons"
   ]
  },
  {
   "cell_type": "markdown",
   "id": "706a0017-17df-46f0-ab52-9fb1d9d8d851",
   "metadata": {},
   "source": [
    "### CMB Instrumentation Summer School"
   ]
  },
  {
   "cell_type": "markdown",
   "id": "12b66cb8-4794-4d2a-843f-103b70d545fd",
   "metadata": {},
   "source": [
    "On the FLS computer, they'll have done the following: \n",
    "\n",
    "- gotten background on the FLS, the measurement setup?\n",
    "- collected data of the plate\n",
    "- collected data of the sample\n",
    "\n",
    "Then, on this computer, they can:\n",
    "- smooth and plot\n",
    "- trouble-shoot standing waves and how to mitigate them (we'll be in the reflection setup but standing waves will still arise)"
   ]
  },
  {
   "cell_type": "markdown",
   "id": "62dfdf6d-aed9-498b-b3f4-883cf18c2e51",
   "metadata": {},
   "source": [
    "Then on this computer, they could figure out how to fit for the index or something? :/ Not sure what to do for lossy things since we're not measuring transmission."
   ]
  },
  {
   "cell_type": "code",
   "execution_count": null,
   "id": "ff046431-2315-4058-ab7d-bf3754474a73",
   "metadata": {},
   "outputs": [],
   "source": []
  }
 ],
 "metadata": {
  "kernelspec": {
   "display_name": "Python 3 (ipykernel)",
   "language": "python",
   "name": "python3"
  },
  "language_info": {
   "codemirror_mode": {
    "name": "ipython",
    "version": 3
   },
   "file_extension": ".py",
   "mimetype": "text/x-python",
   "name": "python",
   "nbconvert_exporter": "python",
   "pygments_lexer": "ipython3",
   "version": "3.9.7"
  }
 },
 "nbformat": 4,
 "nbformat_minor": 5
}
