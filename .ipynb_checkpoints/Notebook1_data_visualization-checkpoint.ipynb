{
 "cells": [
  {
   "cell_type": "markdown",
   "id": "181494ef-cd60-4c80-87c8-b6354b5c8e5d",
   "metadata": {},
   "source": [
    "# CMB-S4 Instrumentation Summer School\n",
    "\n",
    "## Holography Lab Notebook #1: Data Visualization\n",
    "Authors: Grace E. Chesmore\n",
    "\n",
    "In this notebook, we will:\n",
    "1. Plot your team's beam data.\n",
    "2. Compare your data to the expected beams.\n",
    "3. Determine sources of noise in the measurement.\n",
    "\n",
    "### Plotting your team's beams."
   ]
  },
  {
   "cell_type": "code",
   "execution_count": 1,
   "id": "a1f8c05b-6366-4cd7-98e8-e607e26eb617",
   "metadata": {
    "tags": [],
    "vscode": {
     "languageId": "python"
    }
   },
   "outputs": [
    {
     "name": "stdin",
     "output_type": "stream",
     "text": [
      "Enter your team name: team1\n"
     ]
    },
    {
     "name": "stdout",
     "output_type": "stream",
     "text": [
      "Welcome team1!\n"
     ]
    }
   ],
   "source": [
    "# %load_ext blackcellmagic\n",
    "# %%black\n",
    "import numpy as np\n",
    "import matplotlib.pyplot as plt\n",
    "import glob\n",
    "import os\n",
    "import funcs\n",
    "\n",
    "team=input(\"Enter your team name:\") #Enter your team name\n",
    "\n",
    "if os.path.isdir('Data/'+team): #Check if the directory exists\n",
    "    print(\"Welcome \"+team+\"!\") #Welcome the team\n",
    "else: #If the directory does not exist\n",
    "    print(\"Team name not found. Check spelling or check Data folder.\") "
   ]
  },
  {
   "cell_type": "markdown",
   "id": "ba37f8d1-e2b9-49a4-8856-ead516115fc8",
   "metadata": {},
   "source": [
    "You've recorded Electric field $\\vec{E}(\\theta)$, where $\\theta$ is the angles of the beam with respect to the rotation axis.  But our telescopes measure power, so we'll need to convert our data:\n",
    "\n",
    "$$ P(\\theta) = |\\vec{E}(\\theta)|^2$$\n",
    "\n",
    "### 1) Exercise: Plot your data below:\n",
    "Pick which frequency you'd like to plot by:\n",
    "1. changing the `frequency` variable in `dataParams`, and \n",
    "2. specify the range of your beam `sweep_ang` in `dataParams`."
   ]
  },
  {
   "cell_type": "code",
   "execution_count": 2,
   "id": "9f368bbc-d0af-434c-bd3f-65049f73d296",
   "metadata": {
    "tags": [],
    "vscode": {
     "languageId": "python"
    }
   },
   "outputs": [
    {
     "ename": "FileNotFoundError",
     "evalue": "Data/team1/100GHz_30deg_1D_H.txt not found.",
     "output_type": "error",
     "traceback": [
      "\u001b[0;31m---------------------------------------------------------------------------\u001b[0m",
      "\u001b[0;31mFileNotFoundError\u001b[0m                         Traceback (most recent call last)",
      "Input \u001b[0;32mIn [2]\u001b[0m, in \u001b[0;36m<cell line: 6>\u001b[0;34m()\u001b[0m\n\u001b[1;32m      2\u001b[0m     frequency \u001b[38;5;241m=\u001b[39m \u001b[38;5;241m100\u001b[39m  \u001b[38;5;66;03m# frequency of measurement [GHz]\u001b[39;00m\n\u001b[1;32m      3\u001b[0m     sweep_ang \u001b[38;5;241m=\u001b[39m \u001b[38;5;241m30\u001b[39m  \u001b[38;5;66;03m# sweep angle [deg]\u001b[39;00m\n\u001b[0;32m----> 6\u001b[0m angles, beam \u001b[38;5;241m=\u001b[39m \u001b[43mfuncs\u001b[49m\u001b[38;5;241;43m.\u001b[39;49m\u001b[43mgetData1D\u001b[49m\u001b[43m(\u001b[49m\n\u001b[1;32m      7\u001b[0m \u001b[43m    \u001b[49m\u001b[43mdataParams\u001b[49m\u001b[43m,\u001b[49m\u001b[43m \u001b[49m\u001b[43mteam\u001b[49m\n\u001b[1;32m      8\u001b[0m \u001b[43m)\u001b[49m  \u001b[38;5;66;03m# Get the data [theta,complex Electric field]\u001b[39;00m\n\u001b[1;32m     10\u001b[0m \u001b[38;5;66;03m# Convert complex electric field to beam power\u001b[39;00m\n\u001b[1;32m     11\u001b[0m beam_power \u001b[38;5;241m=\u001b[39m \u001b[38;5;28mabs\u001b[39m(beam) \u001b[38;5;241m*\u001b[39m\u001b[38;5;241m*\u001b[39m \u001b[38;5;241m2\u001b[39m  \u001b[38;5;66;03m# <-- Your code here\u001b[39;00m\n",
      "File \u001b[0;32m~/CMBS4SummerSchool/funcs.py:21\u001b[0m, in \u001b[0;36mgetData1D\u001b[0;34m(dataParams, team)\u001b[0m\n\u001b[1;32m      8\u001b[0m cut \u001b[38;5;241m=\u001b[39m \u001b[38;5;124m\"\u001b[39m\u001b[38;5;124mH\u001b[39m\u001b[38;5;124m\"\u001b[39m\n\u001b[1;32m      9\u001b[0m FILE_NAME \u001b[38;5;241m=\u001b[39m (\n\u001b[1;32m     10\u001b[0m     \u001b[38;5;124m\"\u001b[39m\u001b[38;5;124mData/\u001b[39m\u001b[38;5;124m\"\u001b[39m\n\u001b[1;32m     11\u001b[0m     \u001b[38;5;241m+\u001b[39m team\n\u001b[0;32m   (...)\u001b[0m\n\u001b[1;32m     18\u001b[0m     \u001b[38;5;241m+\u001b[39m \u001b[38;5;124m\"\u001b[39m\u001b[38;5;124m.txt\u001b[39m\u001b[38;5;124m\"\u001b[39m\n\u001b[1;32m     19\u001b[0m )\n\u001b[0;32m---> 21\u001b[0m data \u001b[38;5;241m=\u001b[39m \u001b[43mnp\u001b[49m\u001b[38;5;241;43m.\u001b[39;49m\u001b[43mloadtxt\u001b[49m\u001b[43m(\u001b[49m\u001b[43mFILE_NAME\u001b[49m\u001b[43m)\u001b[49m\n\u001b[1;32m     22\u001b[0m ang \u001b[38;5;241m=\u001b[39m (\u001b[38;5;28mlen\u001b[39m(data) \u001b[38;5;241m-\u001b[39m \u001b[38;5;241m1\u001b[39m) \u001b[38;5;241m/\u001b[39m \u001b[38;5;241m2\u001b[39m\n\u001b[1;32m     23\u001b[0m ang \u001b[38;5;241m=\u001b[39m np\u001b[38;5;241m.\u001b[39mlinspace(\u001b[38;5;241m-\u001b[39mang, ang, \u001b[38;5;28mlen\u001b[39m(data))\n",
      "File \u001b[0;32m~/miniconda3/lib/python3.9/site-packages/numpy/lib/npyio.py:1042\u001b[0m, in \u001b[0;36mloadtxt\u001b[0;34m(fname, dtype, comments, delimiter, converters, skiprows, usecols, unpack, ndmin, encoding, max_rows, like)\u001b[0m\n\u001b[1;32m   1040\u001b[0m     fname \u001b[38;5;241m=\u001b[39m os_fspath(fname)\n\u001b[1;32m   1041\u001b[0m \u001b[38;5;28;01mif\u001b[39;00m _is_string_like(fname):\n\u001b[0;32m-> 1042\u001b[0m     fh \u001b[38;5;241m=\u001b[39m \u001b[43mnp\u001b[49m\u001b[38;5;241;43m.\u001b[39;49m\u001b[43mlib\u001b[49m\u001b[38;5;241;43m.\u001b[39;49m\u001b[43m_datasource\u001b[49m\u001b[38;5;241;43m.\u001b[39;49m\u001b[43mopen\u001b[49m\u001b[43m(\u001b[49m\u001b[43mfname\u001b[49m\u001b[43m,\u001b[49m\u001b[43m \u001b[49m\u001b[38;5;124;43m'\u001b[39;49m\u001b[38;5;124;43mrt\u001b[39;49m\u001b[38;5;124;43m'\u001b[39;49m\u001b[43m,\u001b[49m\u001b[43m \u001b[49m\u001b[43mencoding\u001b[49m\u001b[38;5;241;43m=\u001b[39;49m\u001b[43mencoding\u001b[49m\u001b[43m)\u001b[49m\n\u001b[1;32m   1043\u001b[0m     fencoding \u001b[38;5;241m=\u001b[39m \u001b[38;5;28mgetattr\u001b[39m(fh, \u001b[38;5;124m'\u001b[39m\u001b[38;5;124mencoding\u001b[39m\u001b[38;5;124m'\u001b[39m, \u001b[38;5;124m'\u001b[39m\u001b[38;5;124mlatin1\u001b[39m\u001b[38;5;124m'\u001b[39m)\n\u001b[1;32m   1044\u001b[0m     line_iter \u001b[38;5;241m=\u001b[39m \u001b[38;5;28miter\u001b[39m(fh)\n",
      "File \u001b[0;32m~/miniconda3/lib/python3.9/site-packages/numpy/lib/_datasource.py:193\u001b[0m, in \u001b[0;36mopen\u001b[0;34m(path, mode, destpath, encoding, newline)\u001b[0m\n\u001b[1;32m    156\u001b[0m \u001b[38;5;124;03m\"\"\"\u001b[39;00m\n\u001b[1;32m    157\u001b[0m \u001b[38;5;124;03mOpen `path` with `mode` and return the file object.\u001b[39;00m\n\u001b[1;32m    158\u001b[0m \n\u001b[0;32m   (...)\u001b[0m\n\u001b[1;32m    189\u001b[0m \n\u001b[1;32m    190\u001b[0m \u001b[38;5;124;03m\"\"\"\u001b[39;00m\n\u001b[1;32m    192\u001b[0m ds \u001b[38;5;241m=\u001b[39m DataSource(destpath)\n\u001b[0;32m--> 193\u001b[0m \u001b[38;5;28;01mreturn\u001b[39;00m \u001b[43mds\u001b[49m\u001b[38;5;241;43m.\u001b[39;49m\u001b[43mopen\u001b[49m\u001b[43m(\u001b[49m\u001b[43mpath\u001b[49m\u001b[43m,\u001b[49m\u001b[43m \u001b[49m\u001b[43mmode\u001b[49m\u001b[43m,\u001b[49m\u001b[43m \u001b[49m\u001b[43mencoding\u001b[49m\u001b[38;5;241;43m=\u001b[39;49m\u001b[43mencoding\u001b[49m\u001b[43m,\u001b[49m\u001b[43m \u001b[49m\u001b[43mnewline\u001b[49m\u001b[38;5;241;43m=\u001b[39;49m\u001b[43mnewline\u001b[49m\u001b[43m)\u001b[49m\n",
      "File \u001b[0;32m~/miniconda3/lib/python3.9/site-packages/numpy/lib/_datasource.py:532\u001b[0m, in \u001b[0;36mDataSource.open\u001b[0;34m(self, path, mode, encoding, newline)\u001b[0m\n\u001b[1;32m    529\u001b[0m     \u001b[38;5;28;01mreturn\u001b[39;00m _file_openers[ext](found, mode\u001b[38;5;241m=\u001b[39mmode,\n\u001b[1;32m    530\u001b[0m                               encoding\u001b[38;5;241m=\u001b[39mencoding, newline\u001b[38;5;241m=\u001b[39mnewline)\n\u001b[1;32m    531\u001b[0m \u001b[38;5;28;01melse\u001b[39;00m:\n\u001b[0;32m--> 532\u001b[0m     \u001b[38;5;28;01mraise\u001b[39;00m \u001b[38;5;167;01mFileNotFoundError\u001b[39;00m(\u001b[38;5;124mf\u001b[39m\u001b[38;5;124m\"\u001b[39m\u001b[38;5;132;01m{\u001b[39;00mpath\u001b[38;5;132;01m}\u001b[39;00m\u001b[38;5;124m not found.\u001b[39m\u001b[38;5;124m\"\u001b[39m)\n",
      "\u001b[0;31mFileNotFoundError\u001b[0m: Data/team1/100GHz_30deg_1D_H.txt not found."
     ]
    }
   ],
   "source": [
    "class dataParams:\n",
    "    frequency = 100  # frequency of measurement [GHz]\n",
    "    sweep_ang = 30  # sweep angle [deg]\n",
    "    cut = 'E'\n",
    "\n",
    "angles, beam = funcs.getData1D(\n",
    "    dataParams, team\n",
    ")  # Get the data [theta,complex Electric field]\n",
    "\n",
    "# Convert complex electric field to beam power\n",
    "beam_power = abs(beam) ** 2  # <-- Your code here\n",
    "beam_phase = np.arctan2(beam.imag, beam.real) * 180 / np.pi  # <-- Your code here\n",
    "\n",
    "plt.figure(figsize=(6, 5))\n",
    "plt.title(r\"$P(\\theta)$: \" + str(dataParams.frequency) + \"GHz\")\n",
    "plt.plot(angles, beam_power, color=\"b\")  # <-- Change this line to plot your data\n",
    "plt.xlabel(r\"$\\theta$ [deg]\")\n",
    "plt.ylabel(\"Power\")\n",
    "plt.yscale(\"log\")\n",
    "plt.grid()"
   ]
  },
  {
   "cell_type": "markdown",
   "id": "a2ade8c7",
   "metadata": {},
   "source": [
    "#### Lab questions:\n",
    "1. Estimate the signal-to-noise of your beam.\n",
    "2. What happens at the edges of the beam?\n",
    "3. Plot the other frequencies that you've measured.  What do you notice between the different beam maps? (signal-to-noise, wide-angle shape, beam width, etc.)\n"
   ]
  },
  {
   "cell_type": "markdown",
   "id": "2a129daa",
   "metadata": {},
   "source": [
    "### 2) Exercise: Compare your beam to a model.\n",
    "We can determine properties of your measured beams by comparing them to a Gaussian:\n",
    "\n",
    "$$ P(\\theta) = \\exp\\left(-\\frac{1}{2}\\left(\\frac{\\theta-\\theta_0}{\\sigma}\\right)^2\\right)$$\n",
    "\n",
    "Where $\\theta_0$ is the center of the beam, and $\\sigma$ is the width of the beam.  Change these two parameters (`sigma` and `x_0`) below to get the model to match your beam (as close as you can)."
   ]
  },
  {
   "cell_type": "code",
   "execution_count": null,
   "id": "b84f1c0a",
   "metadata": {
    "tags": [],
    "vscode": {
     "languageId": "python"
    }
   },
   "outputs": [],
   "source": [
    "def gauss(x, mu, sigma):\n",
    "    \"\"\"\n",
    "    Gaussian function\n",
    "    \"\"\"\n",
    "    return np.exp(-((x - mu) ** 2) / (2 * sigma ** 2))\n",
    "\n",
    "\n",
    "sigma = 8  # <-- Your code here\n",
    "x_0 = -1  # <-- Your code here\n",
    "\n",
    "model = gauss(angles, x_0, sigma)\n",
    "\n",
    "plt.figure(figsize=(6, 5))\n",
    "plt.title(r\"$P(\\theta)$: \" + str(dataParams.frequency) + \"GHz\")\n",
    "plt.plot(angles, beam_power, color=\"b\", label=\"Data\")\n",
    "plt.plot(angles, model, color=\"r\", label=\"Model\")\n",
    "plt.xlabel(r\"$\\theta$ [deg]\")\n",
    "plt.ylabel(\"Power\")\n",
    "plt.yscale(\"log\")\n",
    "plt.legend()\n",
    "plt.grid()\n",
    "plt.show()"
   ]
  },
  {
   "cell_type": "markdown",
   "id": "191ec8ec",
   "metadata": {},
   "source": [
    "### Lab questions:\n",
    "1. From the model, what is the beam size, or [Full-width Half-maximum](https://en.wikipedia.org/wiki/Full_width_at_half_maximum)?\n",
    "$$ FWHM =2\\sqrt{2\\ln{2}}\\, \\sigma$$\n",
    "2. Where does the model fail to match your beam?"
   ]
  },
  {
   "cell_type": "code",
   "execution_count": null,
   "id": "f6a92651",
   "metadata": {
    "vscode": {
     "languageId": "python"
    }
   },
   "outputs": [],
   "source": [
    "# <- Your code to calculate the FWHM here"
   ]
  },
  {
   "cell_type": "markdown",
   "id": "87558da6-590c-418c-842f-55eb0ab8a27b",
   "metadata": {
    "vscode": {
     "languageId": "python"
    }
   },
   "source": [
    "### 3) Exercise: Feedhorn Cross-Talk\n",
    "\n",
    "An important characterization of densely packed feedhorn arrays is \"cross-talk\", or how much power spills from one feedhorn to a neighboring feedhorn. Here you'll determine this by using your measured beam and seeing the field distribution on the face of the feedhorn aray.\n",
    "\n",
    "In optics, we describe a wave as either being in the near-field or the far-field.  Conveniently, we can relate a near-field measurement to the near-field by a Fourier Transform:\n",
    "\n",
    "$$U(x) = \\int_{Aperature} B(\\theta)e^{i\\phi} d\\theta$$ \n",
    "\n",
    "### Lab questions:\n",
    "1. Was your beam map measured in the [near-field or the far-field](https://en.wikipedia.org/wiki/Near_and_far_field)?\n",
    "(Hints: calculate $d_F$ and estimate how far away the source was from the feedhorn array, $d_M$, or distance of measurement.  If $d_M > d_F$ your measurement was in the far-field.)  Use the equation below for distance to the far-field regime:\n",
    "\n",
    "$$ d_F = \\frac{2D^2}{\\lambda}$$\n",
    "\n",
    "ANSWER: Far-field."
   ]
  },
  {
   "cell_type": "code",
   "execution_count": null,
   "id": "06189817",
   "metadata": {
    "vscode": {
     "languageId": "python"
    }
   },
   "outputs": [],
   "source": [
    "# Code to determine if in the near or far-field\n",
    "lam = 0.003  # wavelength of your measurement [meters] <-- Your code here\n",
    "D = 0.00515  # diameter of aperture (front opening of the feedhorn profile) [meters]\n",
    "d_F = 2 * D ** 2 / lam  # distance to far-field regime [meters]\n",
    "d_M = 0.5  # estimate how far the source horn was away from the feedhorn array [meters] <-- Your code here\n",
    "print(r\"$d_M$ = {}, $d_F$ = {}\".format(d_M, d_F))"
   ]
  },
  {
   "cell_type": "markdown",
   "id": "b9501ce0",
   "metadata": {},
   "source": [
    "Now using the Fourier relationship above, convert your measurement (in the far-field) into the near-field (this is the electric field on the face of the feed-horn array).\n",
    "\n",
    "The yellow boundary in the plot below shows the boundary of the feedhorn.  The blue line shows the electric field on the face of the feedhorn array.  Any signal outside of the boundary is \"cross-talk\", or power spilled from the main feedhorn and into neighboring feedhorns.  \n",
    "\n",
    "2. What's the maximum cross-talk you're measuring from your plot? (Hint: use the `max()` function or look for the $2^{nd}$ highest peak in the plot)."
   ]
  },
  {
   "cell_type": "code",
   "execution_count": null,
   "id": "feb24720-7cbc-41aa-bff9-53395b581498",
   "metadata": {
    "vscode": {
     "languageId": "python"
    }
   },
   "outputs": [],
   "source": [
    "import scipy\n",
    "from scipy import fft\n",
    "\n",
    "# Fourier transform your data here\n",
    "beam_temp = fft.fftshift(beam)  # Shift the data to the center\n",
    "beam_temp = fft.fft(beam_temp)  # Fourier transform the data\n",
    "beam_fft = fft.fftshift(beam_temp)  # Shift the data back to the original position\n",
    "\n",
    "x_arr = funcs.coords_ang_to_spat(\n",
    "    np.deg2rad(angles), dataParams.frequency\n",
    ")  # convert angles to spatial coordinates\n",
    "# Plot the near-field\n",
    "plt.figure()\n",
    "plt.title(\"Near-field (on front surface of feedhorn array)\")\n",
    "plt.ylabel(\"Power [dB]\")\n",
    "plt.xlabel(\"X [cm]\")\n",
    "plt.vlines(\n",
    "    x_arr[np.where(abs(beam_fft) == np.max(abs(beam_fft)))] - (D * 1e2 / 2),\n",
    "    -50,\n",
    "    0,\n",
    "    linestyle=\"--\",\n",
    "    color=\"orange\",\n",
    "    label=\"Feedhorn\",\n",
    ")\n",
    "plt.vlines(\n",
    "    x_arr[np.where(abs(beam_fft) == np.max(abs(beam_fft)))] + (D * 1e2 / 2),\n",
    "    -50,\n",
    "    0,\n",
    "    linestyle=\"--\",\n",
    "    color=\"orange\",\n",
    ")\n",
    "plt.plot(x_arr, 20 * np.log10(abs(beam_fft) / max(abs(beam_fft))), label=\"Near-field\")\n",
    "plt.legend()\n",
    "plt.grid()\n",
    "plt.show()"
   ]
  },
  {
   "cell_type": "code",
   "execution_count": null,
   "id": "6629e784",
   "metadata": {
    "vscode": {
     "languageId": "python"
    }
   },
   "outputs": [],
   "source": []
  }
 ],
 "metadata": {
  "kernelspec": {
   "display_name": "“my_environment”",
   "language": "python",
   "name": "miniconda3"
  },
  "language_info": {
   "codemirror_mode": {
    "name": "ipython",
    "version": 3
   },
   "file_extension": ".py",
   "mimetype": "text/x-python",
   "name": "python",
   "nbconvert_exporter": "python",
   "pygments_lexer": "ipython3",
   "version": "3.9.7"
  }
 },
 "nbformat": 4,
 "nbformat_minor": 5
}
