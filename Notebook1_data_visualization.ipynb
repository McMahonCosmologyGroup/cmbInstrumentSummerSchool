{
 "cells": [
  {
   "cell_type": "markdown",
   "id": "181494ef-cd60-4c80-87c8-b6354b5c8e5d",
   "metadata": {},
   "source": [
    "# CMB-S4 Instrumentation Summer School\n",
    "\n",
    "## Holography Lab Notebook #1: Data Visualization\n",
    "\n",
    "In this notebook, we will:\n",
    "1. Plot your team's beam data.\n",
    "2. Compare your data to the expected beams.\n",
    "3. Determine sources of noise in the measurement.\n",
    "\n",
    "### Plotting your team's beams."
   ]
  },
  {
   "cell_type": "code",
   "execution_count": null,
   "id": "a1f8c05b-6366-4cd7-98e8-e607e26eb617",
   "metadata": {
    "jupyter": {
     "source_hidden": true
    },
    "tags": []
   },
   "outputs": [],
   "source": [
    "# %load_ext blackcellmagic\n",
    "%%black\n",
    "import numpy as np\n",
    "import matplotlib.pyplot as plt\n",
    "import glob\n",
    "import os\n",
    "import funcs\n",
    "\n",
    "team=input(\"Enter your team name:\") #Enter your team name\n",
    "\n",
    "if os.path.isdir('Data/'+team): #Check if the directory exists\n",
    "    print(\"Welcome \"+team+\"!\") #Welcome the team\n",
    "else: #If the directory does not exist\n",
    "    print(\"Team name not found. Check spelling or check Data folder.\") "
   ]
  },
  {
   "cell_type": "markdown",
   "id": "ba37f8d1-e2b9-49a4-8856-ead516115fc8",
   "metadata": {},
   "source": [
    "You've recorded Electric field $\\vec{E}(\\theta)$, where $\\theta$ is the angles of the beam with respect to the rotation axis.  But our telescopes measure power, so we'll need to convert our data:\n",
    "\n",
    "$$ P(\\theta) = |\\vec{E}(\\theta)|^2$$\n",
    "\n",
    "### 1) Exercise: Plot your data below:\n",
    "Pick which frequency you'd like to plot by:\n",
    "1. changing the `frequency` variable in `dataParams`, and \n",
    "2. specify the range of your beam `sweep_ang` in `dataParams`."
   ]
  },
  {
   "cell_type": "code",
   "execution_count": null,
   "id": "9f368bbc-d0af-434c-bd3f-65049f73d296",
   "metadata": {
    "jupyter": {
     "source_hidden": true
    },
    "tags": []
   },
   "outputs": [],
   "source": [
    "class dataParams:\n",
    "    frequency = 199  # frequency of measurement [GHz]\n",
    "    sweep_ang = 30  # sweep angle [deg]\n",
    "\n",
    "\n",
    "angles, beam = funcs.getData1D(\n",
    "    dataParams, team\n",
    ")  # Get the data [theta,complex Electric field]\n",
    "\n",
    "# Convert complex electric field to beam power\n",
    "beam_power = abs(beam) ** 2  # <-- Your code here\n",
    "beam_phase = np.arctan2(beam.imag, beam.real) * 180 / np.pi  # <-- Your code here\n",
    "\n",
    "plt.figure(figsize=(6, 5))\n",
    "plt.title(r\"$P(\\theta)$: \" + str(dataParams.frequency) + \"GHz\")\n",
    "plt.plot(angles, beam_power, color=\"b\")  # <-- Change this line to plot your data\n",
    "plt.xlabel(r\"$\\theta$ [deg]\")\n",
    "plt.ylabel(\"Power\")\n",
    "plt.yscale(\"log\")\n",
    "plt.grid()"
   ]
  },
  {
   "cell_type": "markdown",
   "id": "a2ade8c7",
   "metadata": {},
   "source": [
    "#### Lab questions:\n",
    "1. Estimate the signal-to-noise of your beam.\n",
    "2. What happens at the edges of the beam?\n",
    "3. Plot the other frequencies that you've measured.  What do you notice between the different beam maps? (signal-to-noise, wide-angle shape, beam width, etc.)\n"
   ]
  },
  {
   "cell_type": "markdown",
   "id": "2a129daa",
   "metadata": {},
   "source": [
    "### 2) Exercise: Compare your beam to a model.\n",
    "We can determine properties of your measured beams by comparing them to a Gaussian:\n",
    "\n",
    "$$ P(\\theta) = \\exp\\left(-\\frac{1}{2}\\left(\\frac{\\theta-\\theta_0}{\\sigma}\\right)^2\\right)$$\n",
    "\n",
    "Where $\\theta_0$ is the center of the beam, and $\\sigma$ is the width of the beam.  Change these two parameters (`sigma` and `x_0`) below to get the model to match your beam (as close as you can)."
   ]
  },
  {
   "cell_type": "code",
   "execution_count": null,
   "id": "b84f1c0a",
   "metadata": {
    "tags": []
   },
   "outputs": [],
   "source": [
    "def gauss(x, mu, sigma):\n",
    "    \"\"\"\n",
    "    Gaussian function\n",
    "    \"\"\"\n",
    "    return np.exp(-((x - mu) ** 2) / (2 * sigma ** 2))\n",
    "\n",
    "\n",
    "sigma = 8  # <-- Your code here\n",
    "x_0 = -1  # <-- Your code here\n",
    "\n",
    "model = gauss(angles, x_0, sigma)\n",
    "\n",
    "plt.figure(figsize=(6, 5))\n",
    "plt.title(r\"$P(\\theta)$: \" + str(dataParams.frequency) + \"GHz\")\n",
    "plt.plot(angles, beam_power, color=\"b\", label=\"Data\")\n",
    "plt.plot(angles, model, color=\"r\", label=\"Model\")\n",
    "plt.xlabel(r\"$\\theta$ [deg]\")\n",
    "plt.ylabel(\"Power\")\n",
    "plt.yscale(\"log\")\n",
    "plt.legend()\n",
    "plt.grid()\n",
    "plt.show()"
   ]
  },
  {
   "cell_type": "markdown",
   "id": "191ec8ec",
   "metadata": {},
   "source": [
    "### Lab questions:\n",
    "1. From the model, what is the beam size, or [Full-width Half-maximum](https://en.wikipedia.org/wiki/Full_width_at_half_maximum)?\n",
    "$$ FWHM =2\\sqrt{2\\ln{2}}\\, \\sigma$$\n",
    "2. Where does the model fail to match your beam?"
   ]
  },
  {
   "cell_type": "code",
   "execution_count": null,
   "id": "f6a92651",
   "metadata": {},
   "outputs": [],
   "source": [
    "# <- Your code to calculate the FWHM here"
   ]
  },
  {
   "cell_type": "markdown",
   "id": "87558da6-590c-418c-842f-55eb0ab8a27b",
   "metadata": {
    "vscode": {
     "languageId": "python"
    }
   },
   "source": [
    "### 3) Exercise: Feedhorn Cross-Talk\n",
    "\n",
    "An important characterization of densely packed feedhorn arrays is \"cross-talk\", or how much power spills from one feedhorn to a neighboring feedhorn. Here you'll determine this by using your measured beam and seeing the field distribution on the face of the feedhorn aray.\n",
    "\n",
    "In optics, we describe a wave as either being in the near-field or the far-field.  Conveniently, we can relate a near-field measurement to the near-field by a Fourier Transform:\n",
    "\n",
    "$$U(x) = \\int_{Aperature} B(\\theta)e^{i\\phi} d\\theta$$ \n",
    "\n",
    "### Lab questions:\n",
    "1. Was your beam map measured in the [near-field or the far-field](https://en.wikipedia.org/wiki/Near_and_far_field)?\n",
    "(Hints: calculate $d_F$ and estimate how far away the source was from the feedhorn array, $d_M$, or distance of measurement.  If $d_M > d_F$ your measurement was in the far-field.)  Use the equation below for distance to the far-field regime:\n",
    "\n",
    "$$ d_F = \\frac{2D^2}{\\lambda}$$\n",
    "\n",
    "ANSWER: Far-field."
   ]
  },
  {
   "cell_type": "code",
   "execution_count": null,
   "id": "06189817",
   "metadata": {},
   "outputs": [],
   "source": [
    "# Code to determine if in the near or far-field\n",
    "lam = 0.003  # wavelength of your measurement [meters] <-- Your code here\n",
    "D = 0.00515  # diameter of aperture (front opening of the feedhorn profile) [meters]\n",
    "d_F = 2 * D ** 2 / lam  # distance to far-field regime [meters]\n",
    "d_M = 0.5  # estimate how far the source horn was away from the feedhorn array [meters] <-- Your code here\n",
    "print(r\"$d_M$ = {}, $d_F$ = {}\".format(d_M, d_F))"
   ]
  },
  {
   "cell_type": "markdown",
   "id": "b9501ce0",
   "metadata": {},
   "source": [
    "Now using the Fourier relationship above, convert your measurement (in the far-field) into the near-field (this is the electric field on the face of the feed-horn array).\n",
    "\n",
    "The yellow boundary in the plot below shows the boundary of the feedhorn.  The blue line shows the electric field on the face of the feedhorn array.  Any signal outside of the boundary is \"cross-talk\", or power spilled from the main feedhorn and into neighboring feedhorns.  \n",
    "\n",
    "2. What's the maximum cross-talk you're measuring from your plot? (Hint: use the `max()` function or look for the $2^{nd}$ highest peak in the plot)."
   ]
  },
  {
   "cell_type": "code",
   "execution_count": null,
   "id": "feb24720-7cbc-41aa-bff9-53395b581498",
   "metadata": {},
   "outputs": [],
   "source": [
    "import scipy\n",
    "from scipy import fft\n",
    "\n",
    "# Fourier transform your data here\n",
    "beam_temp = fft.fftshift(beam)  # Shift the data to the center\n",
    "beam_temp = fft.fft(beam_temp)  # Fourier transform the data\n",
    "beam_fft = fft.fftshift(beam_temp)  # Shift the data back to the original position\n",
    "\n",
    "x_arr = funcs.coords_ang_to_spat(\n",
    "    np.deg2rad(angles), dataParams.frequency\n",
    ")  # convert angles to spatial coordinates\n",
    "# Plot the near-field\n",
    "plt.figure()\n",
    "plt.title(\"Near-field (on front surface of feedhorn array)\")\n",
    "plt.ylabel(\"Power [dB]\")\n",
    "plt.xlabel(\"X [cm]\")\n",
    "plt.vlines(\n",
    "    x_arr[np.where(abs(beam_fft) == np.max(abs(beam_fft)))] - (D * 1e2 / 2),\n",
    "    -50,\n",
    "    0,\n",
    "    linestyle=\"--\",\n",
    "    color=\"orange\",\n",
    "    label=\"Feedhorn\",\n",
    ")\n",
    "plt.vlines(\n",
    "    x_arr[np.where(abs(beam_fft) == np.max(abs(beam_fft)))] + (D * 1e2 / 2),\n",
    "    -50,\n",
    "    0,\n",
    "    linestyle=\"--\",\n",
    "    color=\"orange\",\n",
    ")\n",
    "plt.plot(x_arr, 20 * np.log10(abs(beam_fft) / max(abs(beam_fft))), label=\"Near-field\")\n",
    "plt.legend()\n",
    "plt.grid()\n",
    "plt.show()"
   ]
  },
  {
   "cell_type": "code",
   "execution_count": null,
   "id": "6629e784",
   "metadata": {},
   "outputs": [],
   "source": []
  }
 ],
 "metadata": {
  "kernelspec": {
   "display_name": "“my_environment”",
   "language": "python",
   "name": "miniconda3"
  },
  "language_info": {
   "codemirror_mode": {
    "name": "ipython",
    "version": 3
   },
   "file_extension": ".py",
   "mimetype": "text/x-python",
   "name": "python",
   "nbconvert_exporter": "python",
   "pygments_lexer": "ipython3",
   "version": "3.9.7"
  }
 },
 "nbformat": 4,
 "nbformat_minor": 5
}
