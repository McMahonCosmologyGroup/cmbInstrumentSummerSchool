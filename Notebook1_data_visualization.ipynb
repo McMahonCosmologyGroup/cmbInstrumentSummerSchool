{
 "cells": [
  {
   "cell_type": "markdown",
   "id": "181494ef-cd60-4c80-87c8-b6354b5c8e5d",
   "metadata": {},
   "source": [
    "# CMB-S4 Instrumentation Summer School\n",
    "\n",
    "## Holography Lab Notebook #1: Data Visualization\n",
    "\n",
    "In this notebook, we will:\n",
    "1. Plot your team's beam data.\n",
    "2. Compare your data to the expected beams.\n",
    "3. Determine sources of noise in the measurement."
   ]
  },
  {
   "cell_type": "code",
   "execution_count": 4,
   "id": "a1f8c05b-6366-4cd7-98e8-e607e26eb617",
   "metadata": {},
   "outputs": [
    {
     "name": "stdin",
     "output_type": "stream",
     "text": [
      "Enter your team name: beam_queens\n"
     ]
    },
    {
     "name": "stdout",
     "output_type": "stream",
     "text": [
      "Welcome beam_queens!\n"
     ]
    }
   ],
   "source": [
    "import numpy\n",
    "import glob\n",
    "import os\n",
    "\n",
    "team=input(\"Enter your team name:\")\n",
    "\n",
    "if os.path.isdir('Data/'+team):\n",
    "    print(\"Welcome \"+team+\"!\")\n",
    "else:\n",
    "    print(\"Team name not found. Check spelling or check Data folder.\")"
   ]
  },
  {
   "cell_type": "code",
   "execution_count": null,
   "id": "ba37f8d1-e2b9-49a4-8856-ead516115fc8",
   "metadata": {},
   "outputs": [],
   "source": []
  },
  {
   "cell_type": "code",
   "execution_count": null,
   "id": "9f368bbc-d0af-434c-bd3f-65049f73d296",
   "metadata": {},
   "outputs": [],
   "source": []
  }
 ],
 "metadata": {
  "kernelspec": {
   "display_name": "Python 3 (ipykernel)",
   "language": "python",
   "name": "python3"
  },
  "language_info": {
   "codemirror_mode": {
    "name": "ipython",
    "version": 3
   },
   "file_extension": ".py",
   "mimetype": "text/x-python",
   "name": "python",
   "nbconvert_exporter": "python",
   "pygments_lexer": "ipython3",
   "version": "3.9.7"
  }
 },
 "nbformat": 4,
 "nbformat_minor": 5
}
